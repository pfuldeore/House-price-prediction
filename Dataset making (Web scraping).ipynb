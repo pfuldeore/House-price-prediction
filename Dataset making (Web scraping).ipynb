{
 "cells": [
  {
   "cell_type": "markdown",
   "id": "f971e541",
   "metadata": {},
   "source": [
    "### Sites with the houses data\n",
    "\n",
    "* https://www.makaan.com/maharashtra/buy-property-in-maharashtra-state\n",
    "* https://housing.com/in/buy/house-in-maharashtra\n",
    "* https://www.99acres.com/property-in-maharashtra-ffid"
   ]
  },
  {
   "cell_type": "code",
   "execution_count": 7,
   "id": "4eefdd49",
   "metadata": {},
   "outputs": [],
   "source": [
    "#Importing necessory libraries\n",
    "\n",
    "import pandas as pd\n",
    "from bs4 import BeautifulSoup as bs\n",
    "import requests\n",
    "from progressbar import ProgressBar\n",
    "pbar = ProgressBar()"
   ]
  },
  {
   "cell_type": "code",
   "execution_count": 4,
   "id": "926c7d0f",
   "metadata": {},
   "outputs": [],
   "source": [
    "houses = []\n",
    "def add_items():\n",
    "    for x in pbar(range(1,10017)):\n",
    "        url = \"https://www.makaan.com/maharashtra/buy-property-in-maharashtra-state?page=\".format(str(x))\n",
    "        page = requests.get(url)\n",
    "        soup = bs(page.content, \"html.parser\")   \n",
    "        contents = soup.find_all(\"div\", class_=\"infoWrap\")\n",
    "        for property_ in contents:\n",
    "            try:\n",
    "                beds_desc = property_.find(class_=\"typelink\").text\n",
    "                locality_name = property_.find(class_=\"locWrap\").text.split(\",\")[0]\n",
    "                region_name = property_.find(class_=\"locWrap\").text.split(\",\")[1]\n",
    "                price = property_.find(class_=\"price\").text\n",
    "                value_per_sqft = property_.find(class_=\"lbl rate\").text\n",
    "                area = int(property_.find(class_=\"size\").text)\n",
    "                construction_status = property_.find(class_=\"hcol w44\").td.text\n",
    "                listing_details = property_.find(class_=\"listing-details\").text\n",
    "            except Exception as e: \n",
    "                print(x, e)\n",
    "                pass         \n",
    "            houses.append(\n",
    "                {\n",
    "                    \"beds_desc\":beds_desc,\n",
    "                    \"locality_name\":locality_name,\n",
    "                    \"region_name\":region_name,\n",
    "                    \"price\":price,\n",
    "                    \"value_per_sqft\":value_per_sqft,\n",
    "                    \"area\":area,\n",
    "                    \"construction_status\":construction_status,\n",
    "                    \"listing_details\":listing_details,\n",
    "                }\n",
    "            )\n",
    "    return houses\n"
   ]
  },
  {
   "cell_type": "code",
   "execution_count": 5,
   "id": "a4cd9400",
   "metadata": {
    "scrolled": true
   },
   "outputs": [
    {
     "name": "stderr",
     "output_type": "stream",
     "text": [
      "100% |########################################################################|\n"
     ]
    },
    {
     "data": {
      "text/html": [
       "<div>\n",
       "<style scoped>\n",
       "    .dataframe tbody tr th:only-of-type {\n",
       "        vertical-align: middle;\n",
       "    }\n",
       "\n",
       "    .dataframe tbody tr th {\n",
       "        vertical-align: top;\n",
       "    }\n",
       "\n",
       "    .dataframe thead th {\n",
       "        text-align: right;\n",
       "    }\n",
       "</style>\n",
       "<table border=\"1\" class=\"dataframe\">\n",
       "  <thead>\n",
       "    <tr style=\"text-align: right;\">\n",
       "      <th></th>\n",
       "      <th>beds_desc</th>\n",
       "      <th>locality_name</th>\n",
       "      <th>region_name</th>\n",
       "      <th>price</th>\n",
       "      <th>value_per_sqft</th>\n",
       "      <th>area</th>\n",
       "      <th>construction_status</th>\n",
       "      <th>listing_details</th>\n",
       "    </tr>\n",
       "  </thead>\n",
       "  <tbody>\n",
       "    <tr>\n",
       "      <th>0</th>\n",
       "      <td>4 BHK Apartment</td>\n",
       "      <td>Tarwala Nagar</td>\n",
       "      <td>Nashik</td>\n",
       "      <td>84.99 L</td>\n",
       "      <td>3,761 / sq ft</td>\n",
       "      <td>2260</td>\n",
       "      <td>Under Construction</td>\n",
       "      <td>Possession by Apr 2023New</td>\n",
       "    </tr>\n",
       "    <tr>\n",
       "      <th>1</th>\n",
       "      <td>2 BHK Apartment</td>\n",
       "      <td>Dombivali</td>\n",
       "      <td>Mumbai</td>\n",
       "      <td>67.9 L</td>\n",
       "      <td>13,580 / sq ft</td>\n",
       "      <td>500</td>\n",
       "      <td>Under Construction</td>\n",
       "      <td>Possession by Dec 2022New</td>\n",
       "    </tr>\n",
       "    <tr>\n",
       "      <th>2</th>\n",
       "      <td>3 BHK Apartment</td>\n",
       "      <td>Wagholi</td>\n",
       "      <td>Pune</td>\n",
       "      <td>60.3 L</td>\n",
       "      <td>7,811 / sq ft</td>\n",
       "      <td>773</td>\n",
       "      <td>Under Construction</td>\n",
       "      <td>Possession by Dec 2025New</td>\n",
       "    </tr>\n",
       "    <tr>\n",
       "      <th>3</th>\n",
       "      <td>1 BHK Apartment</td>\n",
       "      <td>Ambegaon Budruk</td>\n",
       "      <td>Pune</td>\n",
       "      <td>35.37 L</td>\n",
       "      <td>7,417 / sq ft</td>\n",
       "      <td>477</td>\n",
       "      <td>Ready to move</td>\n",
       "      <td>0 - 1 year oldNew</td>\n",
       "    </tr>\n",
       "    <tr>\n",
       "      <th>4</th>\n",
       "      <td>3 BHK Apartment</td>\n",
       "      <td>Dombivali</td>\n",
       "      <td>Mumbai</td>\n",
       "      <td>95 L</td>\n",
       "      <td>10,359 / sq ft</td>\n",
       "      <td>917</td>\n",
       "      <td>Under Construction</td>\n",
       "      <td>Possession by Nov 2025New</td>\n",
       "    </tr>\n",
       "  </tbody>\n",
       "</table>\n",
       "</div>"
      ],
      "text/plain": [
       "         beds_desc    locality_name region_name     price  value_per_sqft  \\\n",
       "0  4 BHK Apartment    Tarwala Nagar      Nashik   84.99 L   3,761 / sq ft   \n",
       "1  2 BHK Apartment        Dombivali      Mumbai    67.9 L  13,580 / sq ft   \n",
       "2  3 BHK Apartment          Wagholi        Pune    60.3 L   7,811 / sq ft   \n",
       "3  1 BHK Apartment  Ambegaon Budruk        Pune   35.37 L   7,417 / sq ft   \n",
       "4  3 BHK Apartment        Dombivali      Mumbai      95 L  10,359 / sq ft   \n",
       "\n",
       "   area construction_status             listing_details  \n",
       "0  2260  Under Construction  Possession by Apr 2023New   \n",
       "1   500  Under Construction  Possession by Dec 2022New   \n",
       "2   773  Under Construction  Possession by Dec 2025New   \n",
       "3   477       Ready to move          0 - 1 year oldNew   \n",
       "4   917  Under Construction  Possession by Nov 2025New   "
      ]
     },
     "execution_count": 5,
     "metadata": {},
     "output_type": "execute_result"
    }
   ],
   "source": [
    "df = pd.DataFrame(add_items())\n",
    "df.to_csv(\"properties_mh.csv\",index=False)\n",
    "df.head()"
   ]
  },
  {
   "cell_type": "code",
   "execution_count": 6,
   "id": "0f143585",
   "metadata": {
    "scrolled": true
   },
   "outputs": [],
   "source": []
  },
  {
   "cell_type": "code",
   "execution_count": null,
   "id": "0cc6c987",
   "metadata": {},
   "outputs": [],
   "source": []
  },
  {
   "cell_type": "code",
   "execution_count": null,
   "id": "d145aadc",
   "metadata": {},
   "outputs": [],
   "source": []
  }
 ],
 "metadata": {
  "kernelspec": {
   "display_name": "Python 3 (ipykernel)",
   "language": "python",
   "name": "python3"
  },
  "language_info": {
   "codemirror_mode": {
    "name": "ipython",
    "version": 3
   },
   "file_extension": ".py",
   "mimetype": "text/x-python",
   "name": "python",
   "nbconvert_exporter": "python",
   "pygments_lexer": "ipython3",
   "version": "3.9.7"
  }
 },
 "nbformat": 4,
 "nbformat_minor": 5
}
